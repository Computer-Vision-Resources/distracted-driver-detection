{
 "cells": [
  {
   "cell_type": "markdown",
   "metadata": {
    "collapsed": true
   },
   "source": [
    "# Table of Contents"
   ]
  },
  {
   "cell_type": "code",
   "execution_count": null,
   "metadata": {
    "collapsed": true
   },
   "outputs": [],
   "source": [
    "from PIL import Image\n",
    "import numpy as np\n",
    "import pandas as pd\n",
    "import matplotlib.pyplot as plt\n",
    "import os"
   ]
  },
  {
   "cell_type": "code",
   "execution_count": null,
   "metadata": {},
   "outputs": [],
   "source": [
    "csv_path = '../dataset/driver_imgs_list.csv'\n",
    "train_data_path = '../dataset/train/'\n",
    "# test_data_path = '../dataset/test/'\n",
    "\n",
    "drivers_csv = pd.read_csv(csv_path)\n",
    "classes = (np.unique(np.asarray(drivers_csv)[:,1]))\n",
    "NUM_CLASSES = len(classes)\n",
    "print(NUM_CLASSES)\n",
    "\n",
    "for k in range(NUM_CLASSES):\n",
    "    \n",
    "    print('c', k, ':')\n",
    "    \n",
    "    curr_dir_path = train_data_path + 'c' + str(k) + '/'\n",
    "\n",
    "    for file in os.listdir(curr_dir_path):\n",
    "        \n",
    "        file_name = os.fsdecode(file)\n",
    "        print (file_name)\n",
    "        \n",
    "        if file_name.endswith(\".jpg\"):\n",
    "            \n",
    "            file_path = (os.path.join(curr_dir_path, file_name))\n",
    "            I = Image.open(file_path).convert('1')\n",
    "            plt.imshow(I)\n",
    "            # I = np.asarray(I)\n",
    "            # print(I.shape)\n",
    "            plt.show()\n",
    "            continue\n",
    "        else:\n",
    "            continue"
   ]
  },
  {
   "cell_type": "code",
   "execution_count": null,
   "metadata": {
    "collapsed": true
   },
   "outputs": [],
   "source": [
    "# Storing an image into an array\n",
    "# path = \"./resources/images/c0_example.jpg\"\n",
    "# I = np.asarray(Image.open(path)) # 3d: height, width, rbg\n",
    "# print(type(I))\n",
    "# print((I).shape)"
   ]
  },
  {
   "cell_type": "code",
   "execution_count": null,
   "metadata": {
    "collapsed": true
   },
   "outputs": [],
   "source": [
    "# From array to a picture\n",
    "# img = Image.fromarray(arr)\n",
    "# img.save(\"output.png\")"
   ]
  }
 ],
 "metadata": {
  "kernelspec": {
   "display_name": "Python 3",
   "language": "python",
   "name": "python3"
  },
  "language_info": {
   "codemirror_mode": {
    "name": "ipython",
    "version": 3
   },
   "file_extension": ".py",
   "mimetype": "text/x-python",
   "name": "python",
   "nbconvert_exporter": "python",
   "pygments_lexer": "ipython3",
   "version": "3.6.1"
  }
 },
 "nbformat": 4,
 "nbformat_minor": 2
}
