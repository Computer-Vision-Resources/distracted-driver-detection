{
 "cells": [
  {
   "cell_type": "markdown",
   "metadata": {
    "collapsed": true
   },
   "source": [
    "# Table of Contents"
   ]
  },
  {
   "cell_type": "code",
   "execution_count": 1,
   "metadata": {
    "collapsed": true
   },
   "outputs": [],
   "source": [
    "from PIL import Image\n",
    "import scipy.misc\n",
    "import numpy as np\n",
    "import pandas as pd\n",
    "import matplotlib.pyplot as plt\n",
    "import os\n",
    "import random\n",
    "import tensorflow as tf"
   ]
  },
  {
   "cell_type": "code",
   "execution_count": 2,
   "metadata": {
    "collapsed": true
   },
   "outputs": [],
   "source": [
    "from matplotlib.font_manager import FontProperties\n",
    "def display_image_samples(data, labels=None): # labels are used for plot titles and are optional\n",
    "    \n",
    "    font = FontProperties()\n",
    "    font.set_family('monospace')\n",
    "    \n",
    "    plt.figure(figsize=(8,4))\n",
    "    rows, cols = 2, 4 # these are arbitrary\n",
    "    random_ids = random.sample(range(len(data)), rows*cols) # randomly select the images\n",
    "    \n",
    "    for i in range(rows*cols):\n",
    "\n",
    "        curr_index = random_ids[i]\n",
    "        image = data[curr_index]\n",
    "        title_str = ('shape: ' + str(image.shape))\n",
    "        \n",
    "        if labels:\n",
    "            title_str += ('\\nclass ' + str(labels[i]))\n",
    "        \n",
    "        plt.subplot(rows, cols, i+1)\n",
    "        plt.title(title_str, fontproperties=font)\n",
    "        plt.imshow(image)\n",
    "        plt.axis('off')\n",
    "        \n",
    "    plt.tight_layout()\n",
    "    plt.show()"
   ]
  },
  {
   "cell_type": "markdown",
   "metadata": {},
   "source": [
    "# Fetch Data"
   ]
  },
  {
   "cell_type": "code",
   "execution_count": 3,
   "metadata": {
    "collapsed": true
   },
   "outputs": [],
   "source": [
    "def clean_data(data):\n",
    "    \n",
    "    # cropped_data = []\n",
    "    \n",
    "    # apply greyscale\n",
    "    data = data.mean(3) # dimension 3 of image shape corresponds to color channels\n",
    "    # data = data[:, :, :, 0] # same as above\n",
    "    \n",
    "    # center-crop images\n",
    "    # data = data[:, :, 7:data.shape[2]-1]\n",
    "    \n",
    "    print(data.shape)\n",
    "    \n",
    "    return data"
   ]
  },
  {
   "cell_type": "code",
   "execution_count": 4,
   "metadata": {
    "collapsed": true
   },
   "outputs": [],
   "source": [
    "from sklearn.model_selection import train_test_split\n",
    "def load_data(data_path, k, test_size=0.3):\n",
    "\n",
    "    x = []\n",
    "    y = []\n",
    "\n",
    "    for i in range(k):\n",
    "        curr_dir_path = data_path + 'c' + str(i) + '/'\n",
    "\n",
    "        for file in os.listdir(curr_dir_path):\n",
    "            file_name = os.fsdecode(file)\n",
    "\n",
    "            if file_name.endswith(\".jpg\"):\n",
    "                file_path = (os.path.join(curr_dir_path, file_name))\n",
    "                img = np.asarray(Image.open(file_path))#.flatten()\n",
    "                x.append(img)\n",
    "                y.append(i)\n",
    "                \n",
    "    \n",
    "    # apply greyscale and cropping\n",
    "    x = clean_data(np.asarray(x))\n",
    "    \n",
    "    # np.asarray(x_train), np.asarray(labels)\n",
    "    x_train, x_test, y_train, y_test = train_test_split(x, y, test_size=0.33, random_state=42)\n",
    "\n",
    "    return np.asarray(x_train), np.asarray(y_train), np.asarray(x_test), np.asarray(y_test)"
   ]
  },
  {
   "cell_type": "markdown",
   "metadata": {},
   "source": [
    "# Convolutional Neural Network"
   ]
  },
  {
   "cell_type": "code",
   "execution_count": 5,
   "metadata": {
    "collapsed": true
   },
   "outputs": [],
   "source": [
    "# taken from: https://stackoverflow.com/questions/3173320/text-progress-bar-in-the-console\n",
    "def printProgressBar (iteration, total, prefix = '', suffix = '', decimals = 1, length = 100, fill = '█'):\n",
    "    \n",
    "    percent = (\"{0:.\" + str(decimals) + \"f}\").format(100 * (iteration / float(total)))\n",
    "    filledLength = int(length * iteration // total)\n",
    "    bar = fill * filledLength + '-' * (length - filledLength)\n",
    "    print('\\r%s |%s| %s%% %s' % (prefix, bar, percent, suffix), end = '\\r')\n",
    "    \n",
    "    # Print New Line on Complete\n",
    "    if iteration == total: \n",
    "        print()"
   ]
  },
  {
   "cell_type": "code",
   "execution_count": 6,
   "metadata": {
    "collapsed": true
   },
   "outputs": [],
   "source": [
    "def conv_net(names, data, labels, x_test, y_test, num_epochs):  \n",
    "    \n",
    "    def conv_layer(x, W, b):\n",
    "        conv = tf.nn.conv2d(x, W, strides=[1,1,1,1], padding=\"SAME\")\n",
    "        conv_with_b = tf.nn.bias_add(conv,b)\n",
    "        conv_out = tf.nn.relu(conv_with_b)\n",
    "        \n",
    "        return conv_out\n",
    "    \n",
    "    def maxpool_layer(conv, k=2):\n",
    "        return tf.nn.max_pool(conv, ksize=[1, k, k, 1], strides=[1, k, k, 1], padding='SAME')\n",
    "    \n",
    "    def model(x):\n",
    "        # define all needed variables\n",
    "        W1 = tf.Variable(tf.random_normal([5,5,1,64]))\n",
    "        b1 = tf.Variable(tf.random_normal([64]))\n",
    "\n",
    "        W2 = tf.Variable(tf.random_normal([5,5,64,64]))\n",
    "        b2 = tf.Variable(tf.random_normal([64]))\n",
    "\n",
    "        W3 = tf.Variable(tf.random_normal([6*6*64, 1024]))\n",
    "        b3 = tf.Variable(tf.random_normal([1024]))\n",
    "\n",
    "        W_out = tf.Variable(tf.random_normal([1024, len(names)]))\n",
    "        b_out = tf.Variable(tf.random_normal([len(names)]))\n",
    "    \n",
    "        # define the actual model\n",
    "        x_reshaped = tf.reshape(x, shape=[-1,24,24,1])\n",
    "        \n",
    "        # 1: conv + pool layer \n",
    "        conv_out1 = conv_layer(x_reshaped, W1, b1)\n",
    "        maxpool_out1 = maxpool_layer(conv_out1)\n",
    "        norm1 = tf.nn.lrn(maxpool_out1, 4, bias=1.0, alpha=0.001/9.0, beta=0.75)\n",
    "        \n",
    "        # 2: conv + pool layer\n",
    "        conv_out2 = conv_layer(norm1, W2, b2)\n",
    "        norm2 = tf.nn.lrn(conv_out2, 4, bias=1.0, alpha=0.001/9.0, beta=0.75)\n",
    "        maxpool_out2 = maxpool_layer(norm2)\n",
    "        \n",
    "        # 3: fully connected layer \n",
    "        maxpool_reshaped = tf.reshape(maxpool_out2, [-1, W3.get_shape().as_list()[0]])\n",
    "        local = tf.add(tf.matmul(maxpool_reshaped, W3), b3)\n",
    "        local_out = tf.nn.relu(local)\n",
    "        \n",
    "        # obtain the final predition\n",
    "        out = tf.add(tf.matmul(local_out, W_out), b_out)\n",
    "                \n",
    "        return out\n",
    "    \n",
    "    def run_model():\n",
    "        \n",
    "        num_batches = 5\n",
    "        \n",
    "        # define the x and y placeholders\n",
    "        x = tf.placeholder(tf.float32, [None, 24*24])\n",
    "        y = tf.placeholder(tf.float32, [None, len(names)])\n",
    "        \n",
    "        # run the model\n",
    "        y_predicted = model(x)\n",
    "        \n",
    "        # define the cost\n",
    "        cost = tf.reduce_mean(tf.nn.softmax_cross_entropy_with_logits(logits=y_predicted, labels=y))\n",
    "        \n",
    "        # get the optimizer\n",
    "        train_op = tf.train.AdamOptimizer(learning_rate = 0.001).minimize(cost)\n",
    "        \n",
    "        # train the Model\n",
    "        with tf.Session() as s:\n",
    "            s.run(tf.global_variables_initializer())\n",
    "            onehot_labels = tf.one_hot(labels, len(names), on_value=1., off_value=0., axis=-1)\n",
    "            onehot_vals = s.run(onehot_labels)\n",
    "            batch_size = len(data) // num_batches\n",
    "            print(\"batch size: \", batch_size, '\\n')\n",
    "            \n",
    "            for j in range(0, num_epochs):\n",
    "                \n",
    "                printProgressBar(0, 1, prefix='EPOCH ' + str(j) + ': ', length=50)\n",
    "\n",
    "                # if j % 10 == 0: print(\"\\nEPOCH \", j+1)\n",
    "                total_cost = 0\n",
    "                for i in range(0, len(data), batch_size):\n",
    "                    batch_data = data[i:i+batch_size, :]\n",
    "                    batch_onehot_vals = onehot_vals[i:i+batch_size, :]\n",
    "                    _, c = s.run([train_op, cost], feed_dict={x: batch_data, y: batch_onehot_vals})\n",
    "                    total_cost += c\n",
    "                    # if (j % 10 == 0) and (i % batch_size == 0): print(\"batch\", i + 1, \", cost =\", total_cost)\n",
    "                    printProgressBar(i, len(data), prefix='EPOCH ' + str(j) + ': ', suffix='Cost = ' + str(total_cost), length=50)\n",
    "                print()    \n",
    "                # if j % 10 == 0: print(\"> Total Cost =\", total_cost)\n",
    "                \n",
    "        # obtain the accuracy on the trained model\n",
    "        correct_pred = tf.equal(tf.argmax(y_predicted,1), tf.argmax(y,1))\n",
    "        accuracy = tf.reduce_mean(tf.cast(correct_pred, tf.float32))\n",
    "        \n",
    "        with tf.Session() as s:\n",
    "            \n",
    "            onehot_ytest_tf = tf.one_hot(y_test, len(names), on_value=1., off_value=0., axis=-1)\n",
    "            onehot_ytest = s.run(onehot_ytest_tf)\n",
    "            \n",
    "            s.run(tf.global_variables_initializer())\n",
    "            accuracy_val = s.run(accuracy,feed_dict={x: x_test, y:onehot_ytest})\n",
    "            print(\"\\nACCURACY = \", accuracy_val*100, \"%\")\n",
    "\n",
    "    run_model()"
   ]
  },
  {
   "cell_type": "markdown",
   "metadata": {},
   "source": [
    "# Implementation"
   ]
  },
  {
   "cell_type": "code",
   "execution_count": 7,
   "metadata": {},
   "outputs": [
    {
     "name": "stdout",
     "output_type": "stream",
     "text": [
      "(22424, 24, 24)\n"
     ]
    }
   ],
   "source": [
    "csv_path = '../dataset/driver_imgs_list.csv'\n",
    "# train_data_path = '../dataset/original/train/'\n",
    "train_data_path = '../dataset/resized/'\n",
    "# train_data_path = '../dataset/samples/'\n",
    "\n",
    "drivers_csv = pd.read_csv(csv_path)\n",
    "classes = (np.unique(np.asarray(drivers_csv)[:,1]))\n",
    "NUM_CLASSES = len(classes) # 10\n",
    "\n",
    "# fetch images from stored dataset in path\n",
    "x_train, y_train, x_test, y_test = load_data(train_data_path, NUM_CLASSES) # test perc = 0.3 (default)"
   ]
  },
  {
   "cell_type": "code",
   "execution_count": null,
   "metadata": {},
   "outputs": [
    {
     "name": "stdout",
     "output_type": "stream",
     "text": [
      "(15024, 24, 24)\n"
     ]
    },
    {
     "data": {
      "image/png": "[encoded data removed]",
      "text/plain": [
       "<matplotlib.figure.Figure at 0x7f47bc546c50>"
      ]
     },
     "metadata": {},
     "output_type": "display_data"
    }
   ],
   "source": [
    "print(x_train.shape)\n",
    "\n",
    "# print a sample of images\n",
    "display_image_samples(x_train)"
   ]
  },
  {
   "cell_type": "code",
   "execution_count": null,
   "metadata": {},
   "outputs": [
    {
     "name": "stdout",
     "output_type": "stream",
     "text": [
      "\n",
      "------------------------------------ CONFIGURATION ------------------------------------\n",
      "\n",
      "data shape (original): (15024, 24, 24)\n",
      "data shape (flattened): (15024, 576)\n",
      "\n",
      "names: ['c0' 'c1' 'c2' 'c3' 'c4' 'c5' 'c6' 'c7' 'c8' 'c9'] \n",
      "names shape: (10,)\n",
      "\n",
      "labels shape: (15024,)\n",
      "\n",
      "-----------------------------------------------------------------------------------------\n",
      "\n",
      "batch size:  3004 \n",
      "\n",
      "EPOCH 0:  |--------------------------------------------------| 0.0% \r"
     ]
    }
   ],
   "source": [
    "names = classes\n",
    "\n",
    "print('\\n------------------------------------ CONFIGURATION ------------------------------------\\n')\n",
    "print('data shape (original):', x_train.shape) # (13, 24, 24)\n",
    "\n",
    "# want to flatten it, like: (13, 576)\n",
    "data = x_train.reshape(x_train.shape[0], -1) # the -1 would be automatically calculated as 24*24 (=576)\n",
    "x_test_flattened = x_test.reshape(x_test.shape[0], -1)\n",
    "labels = y_train\n",
    "\n",
    "print('data shape (flattened):' , data.shape)\n",
    "print('\\nnames:', names, '\\nnames shape:', names.shape)\n",
    "print('\\nlabels shape:', labels.shape)\n",
    "print('\\n-----------------------------------------------------------------------------------------\\n')\n",
    "\n",
    "# SIZES: names: [] x 10 , data:(50000, 576), labels:(50000,)\n",
    "num_epochs = 2\n",
    "conv_net(names, data, labels, x_test_flattened, y_test, num_epochs)"
   ]
  },
  {
   "cell_type": "code",
   "execution_count": null,
   "metadata": {
    "collapsed": true
   },
   "outputs": [],
   "source": []
  }
 ],
 "metadata": {
  "kernelspec": {
   "display_name": "Python 3",
   "language": "python",
   "name": "python3"
  },
  "language_info": {
   "codemirror_mode": {
    "name": "ipython",
    "version": 3
   },
   "file_extension": ".py",
   "mimetype": "text/x-python",
   "name": "python",
   "nbconvert_exporter": "python",
   "pygments_lexer": "ipython3",
   "version": "3.5.2"
  }
 },
 "nbformat": 4,
 "nbformat_minor": 2
}
