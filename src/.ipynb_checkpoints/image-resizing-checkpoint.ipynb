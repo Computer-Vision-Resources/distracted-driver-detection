{
 "cells": [
  {
   "cell_type": "code",
   "execution_count": 1,
   "metadata": {
    "collapsed": true
   },
   "outputs": [],
   "source": [
    "from PIL import Image\n",
    "import os"
   ]
  },
  {
   "cell_type": "code",
   "execution_count": 8,
   "metadata": {
    "collapsed": true
   },
   "outputs": [],
   "source": [
    "def resize_images(data_path, resized_path, k):\n",
    "    \n",
    "    size = 24, 24\n",
    "\n",
    "    for i in range(k):\n",
    "        curr_dir_path = data_path + 'c' + str(i) + '/'\n",
    "        resized_dir_path = resized_path + 'c' + str(i) + '/'\n",
    "        \n",
    "        for file in os.listdir(curr_dir_path):\n",
    "            file_name = os.fsdecode(file)\n",
    "\n",
    "            if file_name.endswith(\".jpg\"):\n",
    "                \n",
    "                file_path = (os.path.join(curr_dir_path, file_name))\n",
    "                \n",
    "                img = Image.open(file_path)\n",
    "                img = img.resize(size, Image.ANTIALIAS)\n",
    "                \n",
    "                # if the directory doesn't exist, create it\n",
    "                if (not os.path.exists(resized_dir_path)):\n",
    "                    os.makedirs(resized_dir_path)\n",
    "                \n",
    "                img.save(resized_dir_path + file_name, 'JPEG')"
   ]
  },
  {
   "cell_type": "code",
   "execution_count": 10,
   "metadata": {},
   "outputs": [],
   "source": [
    "NUM_CLASSES = 10\n",
    "data_path = '../dataset/original/train/'\n",
    "resized_path = '../dataset/resized/'\n",
    "\n",
    "resize_images(data_path, resized_path, NUM_CLASSES)"
   ]
  }
 ],
 "metadata": {
  "kernelspec": {
   "display_name": "Python 3",
   "language": "python",
   "name": "python3"
  },
  "language_info": {
   "codemirror_mode": {
    "name": "ipython",
    "version": 3
   },
   "file_extension": ".py",
   "mimetype": "text/x-python",
   "name": "python",
   "nbconvert_exporter": "python",
   "pygments_lexer": "ipython3",
   "version": "3.6.1"
  }
 },
 "nbformat": 4,
 "nbformat_minor": 2
}
