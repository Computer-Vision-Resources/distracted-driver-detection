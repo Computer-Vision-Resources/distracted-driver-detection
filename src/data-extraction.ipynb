{
 "cells": [
  {
   "cell_type": "markdown",
   "metadata": {
    "collapsed": true
   },
   "source": [
    "# Table of Contents"
   ]
  },
  {
   "cell_type": "code",
   "execution_count": 1,
   "metadata": {
    "collapsed": true
   },
   "outputs": [],
   "source": [
    "from PIL import Image\n",
    "import scipy.misc\n",
    "import numpy as np\n",
    "import pandas as pd\n",
    "import matplotlib.pyplot as plt\n",
    "import os\n",
    "import random\n",
    "import tensorflow as tf"
   ]
  },
  {
   "cell_type": "code",
   "execution_count": 2,
   "metadata": {
    "collapsed": true
   },
   "outputs": [],
   "source": [
    "from matplotlib.font_manager import FontProperties\n",
    "def display_image_samples(data, labels=None): # labels are used for plot titles and are optional\n",
    "    \n",
    "    font = FontProperties()\n",
    "    font.set_family('monospace')\n",
    "    \n",
    "    plt.figure(figsize=(8,4))\n",
    "    rows, cols = 2, 4 # these are arbitrary\n",
    "    random_ids = random.sample(range(len(data)), rows*cols) # randomly select the images\n",
    "    \n",
    "    for i in range(rows*cols):\n",
    "\n",
    "        curr_index = random_ids[i]\n",
    "        image = data[curr_index]\n",
    "        title_str = ('shape: ' + str(image.shape))\n",
    "        \n",
    "        if labels:\n",
    "            title_str += ('\\nclass ' + str(labels[i]))\n",
    "        \n",
    "        plt.subplot(rows, cols, i+1)\n",
    "        plt.title(title_str, fontproperties=font)\n",
    "        plt.imshow(image)\n",
    "        plt.axis('off')\n",
    "        \n",
    "    plt.tight_layout()\n",
    "    plt.show()"
   ]
  },
  {
   "cell_type": "markdown",
   "metadata": {},
   "source": [
    "# Fetch Data"
   ]
  },
  {
   "cell_type": "code",
   "execution_count": 3,
   "metadata": {
    "collapsed": true
   },
   "outputs": [],
   "source": [
    "# increase the amount of data by applying rotation\n",
    "def augment_data(data_path, k):\n",
    "    \n",
    "    # remove previous images, if any\n",
    "    os.system('find ' + data_path + ' -name \\'*-new*\\' -delete')\n",
    "\n",
    "    for k in range(NUM_CLASSES):\n",
    "        curr_dir_path = data_path + 'c' + str(k) + '/'\n",
    "\n",
    "        for file in os.listdir(curr_dir_path):\n",
    "\n",
    "            file_name = os.fsdecode(file)\n",
    "            \n",
    "            # for each image found, generate a rotated copy\n",
    "            if file_name.endswith(\".jpg\"):\n",
    "\n",
    "                file_path = (os.path.join(curr_dir_path, file_name))\n",
    "\n",
    "                new_file_name = os.path.splitext(file_name)[0] + '-new.jpg'\n",
    "                \n",
    "                rotation_degree = 0\n",
    "                while rotation_degree == 0:\n",
    "                    rotation_degree = random.randint(-10, 10)\n",
    "\n",
    "                image = Image.open(file_path)\n",
    "                new_image = image.rotate(rotation_degree, resample=Image.BICUBIC)\n",
    "                new_image.save(curr_dir_path + new_file_name, 'JPEG')"
   ]
  },
  {
   "cell_type": "code",
   "execution_count": 4,
   "metadata": {
    "collapsed": true
   },
   "outputs": [],
   "source": [
    "def clean_data(data):\n",
    "    \n",
    "    cropped_data = []\n",
    "    \n",
    "    # resize images\n",
    "    baseheight = 24\n",
    "    for i, row in enumerate(data):\n",
    "        image = Image.fromarray(row)\n",
    "        hpercent = (baseheight / float(image.size[1]))\n",
    "        wsize = int((float(image.size[0]) * float(hpercent)))\n",
    "        image = image.resize((wsize, baseheight), Image.ANTIALIAS)\n",
    "        cropped_data.append(np.asarray(image))\n",
    "    \n",
    "    data = np.asarray(cropped_data)\n",
    "    \n",
    "    # apply greyscale\n",
    "    data = data.mean(3) # dimension 3 of image shape corresponds to color channels\n",
    "    # data = data[:, :, :, 0] # same as above\n",
    "    \n",
    "    # center-crop images\n",
    "    data = data[:, :, 7:data.shape[2]-1]\n",
    "    \n",
    "    print(data.shape)\n",
    "    \n",
    "    return data"
   ]
  },
  {
   "cell_type": "code",
   "execution_count": 5,
   "metadata": {
    "collapsed": true
   },
   "outputs": [],
   "source": [
    "from sklearn.model_selection import train_test_split\n",
    "def load_data(data_path, k, test_size=0.3):\n",
    "    \n",
    "    # augment data by generating more images\n",
    "    # augment_data(data_path, k)\n",
    "\n",
    "    x = []\n",
    "    y = []\n",
    "\n",
    "    for i in range(k):\n",
    "        curr_dir_path = data_path + 'c' + str(i) + '/'\n",
    "\n",
    "        for file in os.listdir(curr_dir_path):\n",
    "            file_name = os.fsdecode(file)\n",
    "\n",
    "            if file_name.endswith(\".jpg\"):\n",
    "                file_path = (os.path.join(curr_dir_path, file_name))\n",
    "                img = np.asarray(Image.open(file_path))#.flatten()\n",
    "                x.append(img)\n",
    "                y.append(i)\n",
    "                \n",
    "    \n",
    "    # apply greyscale and cropping\n",
    "    x = clean_data(np.asarray(x))\n",
    "    \n",
    "    # np.asarray(x_train), np.asarray(labels)\n",
    "    x_train, x_test, y_train, y_test = train_test_split(x, y, test_size=0.33, random_state=42)\n",
    "\n",
    "    return x_train, y_train, x_test, y_test"
   ]
  },
  {
   "cell_type": "markdown",
   "metadata": {},
   "source": [
    "# Implementation"
   ]
  },
  {
   "cell_type": "code",
   "execution_count": 6,
   "metadata": {},
   "outputs": [
    {
     "name": "stdout",
     "output_type": "stream",
     "text": [
      "(20, 24, 24)\n"
     ]
    }
   ],
   "source": [
    "csv_path = '../dataset/driver_imgs_list.csv'\n",
    "train_data_path = '../dataset/samples/'\n",
    "\n",
    "drivers_csv = pd.read_csv(csv_path)\n",
    "classes = (np.unique(np.asarray(drivers_csv)[:,1]))\n",
    "NUM_CLASSES = len(classes) # 10\n",
    "\n",
    "# fetch images from stored dataset in path\n",
    "x_train, y_train, x_test, y_test = load_data(train_data_path, NUM_CLASSES) # test perc = 0.3 (default)"
   ]
  },
  {
   "cell_type": "code",
   "execution_count": 7,
   "metadata": {},
   "outputs": [
    {
     "name": "stdout",
     "output_type": "stream",
     "text": [
      "(13, 24, 24)\n"
     ]
    },
    {
     "data": {
      "image/png": "[encoded data removed]",
      "text/plain": [
       "<matplotlib.figure.Figure at 0x181d4bc278>"
      ]
     },
     "metadata": {},
     "output_type": "display_data"
    }
   ],
   "source": [
    "print(x_train.shape)\n",
    "\n",
    "# print a sample of images\n",
    "display_image_samples(x_train)"
   ]
  },
  {
   "cell_type": "markdown",
   "metadata": {},
   "source": [
    "# Convolutional Neural Network"
   ]
  },
  {
   "cell_type": "code",
   "execution_count": 8,
   "metadata": {
    "collapsed": true
   },
   "outputs": [],
   "source": [
    "def conv_net(names, data, labels, num_epochs):  \n",
    "    \n",
    "    def conv_layer(x, W, b):\n",
    "        conv = tf.nn.conv2d(x, W, strides=[1,1,1,1], padding=\"SAME\")\n",
    "        conv_with_b = tf.nn.bias_add(conv,b)\n",
    "        conv_out = tf.nn.relu(conv_with_b)\n",
    "        \n",
    "        return conv_out\n",
    "    \n",
    "    def maxpool_layer(conv, k=2):\n",
    "        return tf.nn.max_pool(conv, ksize=[1, k, k, 1], strides=[1, k, k, 1], padding='SAME')\n",
    "    \n",
    "    def model(x):\n",
    "        #Define all needed variables\n",
    "        W1 = tf.Variable(tf.random_normal([5,5,1,64]))\n",
    "        b1 = tf.Variable(tf.random_normal([64]))\n",
    "\n",
    "        W2 = tf.Variable(tf.random_normal([5,5,64,64]))\n",
    "        b2 = tf.Variable(tf.random_normal([64]))\n",
    "\n",
    "        W3 = tf.Variable(tf.random_normal([6*6*64, 1024]))\n",
    "        b3 = tf.Variable(tf.random_normal([1024]))\n",
    "\n",
    "        W_out = tf.Variable(tf.random_normal([1024, len(names)]))\n",
    "        b_out = tf.Variable(tf.random_normal([len(names)]))\n",
    "    \n",
    "        #Define the actual model\n",
    "        x_reshaped = tf.reshape(x, shape=[-1,24,24,1])\n",
    "        \n",
    "        #1: conv + pool layer \n",
    "        conv_out1 = conv_layer(x_reshaped, W1, b1)\n",
    "        maxpool_out1 = maxpool_layer(conv_out1)\n",
    "        norm1 = tf.nn.lrn(maxpool_out1, 4, bias=1.0, alpha=0.001/9.0, beta=0.75)\n",
    "        \n",
    "        #2: conv + pool layer\n",
    "        conv_out2 = conv_layer(norm1, W2, b2)\n",
    "        norm2 = tf.nn.lrn(conv_out2, 4, bias=1.0, alpha=0.001/9.0, beta=0.75)\n",
    "        maxpool_out2 = maxpool_layer(norm2)\n",
    "        \n",
    "        #3: Fully connected layer \n",
    "        maxpool_reshaped = tf.reshape(maxpool_out2, [-1, W3.get_shape().as_list()[0]])\n",
    "        local = tf.add(tf.matmul(maxpool_reshaped, W3), b3)\n",
    "        local_out = tf.nn.relu(local)\n",
    "        \n",
    "        #Obtain the final predition\n",
    "        out = tf.add(tf.matmul(local_out, W_out), b_out)\n",
    "                \n",
    "        return out\n",
    "    \n",
    "    def run_model():\n",
    "        #Define the x and y placeholders\n",
    "        x = tf.placeholder(tf.float32, [None, 24*24])\n",
    "        y = tf.placeholder(tf.float32, [None, len(names)])\n",
    "        \n",
    "        #Run the model\n",
    "        y_predicted = model(x)\n",
    "        \n",
    "        # Define the cost\n",
    "        cost = tf.reduce_mean(\n",
    "            tf.nn.softmax_cross_entropy_with_logits(logits=y_predicted, labels=y)\n",
    "        )\n",
    "        \n",
    "        #Get the optimizer\n",
    "        train_op = tf.train.AdamOptimizer(learning_rate = 0.001).minimize(cost)\n",
    "        \n",
    "        #Train the Model\n",
    "        with tf.Session() as s:\n",
    "            s.run(tf.global_variables_initializer())\n",
    "            onehot_labels = tf.one_hot(labels, len(names), on_value=1., off_value=0., axis=-1)\n",
    "            onehot_vals = s.run(onehot_labels)\n",
    "            batch_size = len(data) // 1\n",
    "            print(\"batch_size\", batch_size)\n",
    "            \n",
    "            for j in range(0, num_epochs):\n",
    "                print(\"EPOCH #:\", j)\n",
    "                total_cost = 0\n",
    "                for i in range(0, len(data), batch_size):\n",
    "                    batch_data = data[i:i+batch_size, :]\n",
    "                    batch_onehot_vals = onehot_vals[i:i+batch_size, :]\n",
    "                    _, c = s.run([train_op, cost], feed_dict={x: batch_data, y: batch_onehot_vals})\n",
    "                    total_cost += c\n",
    "                    if i % 1000 == 0:\n",
    "                        print(\"batch:\",i, \"cost:\",total_cost)\n",
    "                print(\"EPOCH #\",j,\" END (Cost =\",total_cost,\")\")\n",
    "                \n",
    "        #Obtain the accuracy on the trained model\n",
    "        correct_pred = tf.equal(tf.argmax(y_predicted,1), tf.argmax(y,1))\n",
    "        accuracy = tf.reduce_mean(tf.cast(correct_pred, tf.float32))\n",
    "        \n",
    "        with tf.Session() as s:\n",
    "            s.run(tf.global_variables_initializer())\n",
    "            accuracy_val = s.run(accuracy,feed_dict={x: data, y:onehot_vals})\n",
    "            print(\"ACCURACY = \", accuracy_val*100, \"%\")\n",
    "\n",
    "    run_model()"
   ]
  },
  {
   "cell_type": "code",
   "execution_count": 9,
   "metadata": {},
   "outputs": [
    {
     "name": "stdout",
     "output_type": "stream",
     "text": [
      "['c0' 'c1' 'c2' 'c3' 'c4' 'c5' 'c6' 'c7' 'c8' 'c9']\n",
      "(13, 576)\n",
      "(13,)\n",
      "batch_size 13\n",
      "EPOCH #: 0\n",
      "batch: 0 cost: 19958.0214844\n",
      "EPOCH # 0  END (Cost = 19958.0214844 )\n",
      "EPOCH #: 1\n",
      "batch: 0 cost: 13403.7705078\n",
      "EPOCH # 1  END (Cost = 13403.7705078 )\n",
      "EPOCH #: 2\n",
      "batch: 0 cost: 8985.10253906\n",
      "EPOCH # 2  END (Cost = 8985.10253906 )\n",
      "EPOCH #: 3\n",
      "batch: 0 cost: 7685.75341797\n",
      "EPOCH # 3  END (Cost = 7685.75341797 )\n",
      "EPOCH #: 4\n",
      "batch: 0 cost: 6252.65527344\n",
      "EPOCH # 4  END (Cost = 6252.65527344 )\n",
      "EPOCH #: 5\n",
      "batch: 0 cost: 3943.78369141\n",
      "EPOCH # 5  END (Cost = 3943.78369141 )\n",
      "EPOCH #: 6\n",
      "batch: 0 cost: 2035.66162109\n",
      "EPOCH # 6  END (Cost = 2035.66162109 )\n",
      "EPOCH #: 7\n",
      "batch: 0 cost: 1593.88745117\n",
      "EPOCH # 7  END (Cost = 1593.88745117 )\n",
      "EPOCH #: 8\n",
      "batch: 0 cost: 1520.7512207\n",
      "EPOCH # 8  END (Cost = 1520.7512207 )\n",
      "EPOCH #: 9\n",
      "batch: 0 cost: 1761.90576172\n",
      "EPOCH # 9  END (Cost = 1761.90576172 )\n",
      "ACCURACY =  15.3846159577 %\n"
     ]
    }
   ],
   "source": [
    "# SIZES: names:[] x 10 , data:(50000, 576), labels:(50000,)\n",
    "# conv_net(names, data, labels, num_epochs)\n",
    "\n",
    "names = classes\n",
    "data = x_train.reshape([len(x_train), len(x_train[0])**2])\n",
    "labels = np.array(y_train)\n",
    "print(names)\n",
    "print(data.shape)\n",
    "print(labels.shape)\n",
    "conv_net(names, data, labels, 10)"
   ]
  },
  {
   "cell_type": "code",
   "execution_count": null,
   "metadata": {
    "collapsed": true
   },
   "outputs": [],
   "source": []
  }
 ],
 "metadata": {
  "kernelspec": {
   "display_name": "Python 3",
   "language": "python",
   "name": "python3"
  },
  "language_info": {
   "codemirror_mode": {
    "name": "ipython",
    "version": 3
   },
   "file_extension": ".py",
   "mimetype": "text/x-python",
   "name": "python",
   "nbconvert_exporter": "python",
   "pygments_lexer": "ipython3",
   "version": "3.6.1"
  }
 },
 "nbformat": 4,
 "nbformat_minor": 2
}
