{
 "cells": [
  {
   "cell_type": "markdown",
   "metadata": {
    "collapsed": true
   },
   "source": [
    "# Table of Contents"
   ]
  },
  {
   "cell_type": "code",
   "execution_count": null,
   "metadata": {
    "collapsed": true
   },
   "outputs": [],
   "source": [
    "from PIL import Image\n",
    "import numpy as np\n",
    "import pandas as pd\n",
    "import matplotlib.pyplot as plt\n",
    "import os\n",
    "import random"
   ]
  },
  {
   "cell_type": "code",
   "execution_count": null,
   "metadata": {},
   "outputs": [],
   "source": [
    "from matplotlib.font_manager import FontProperties\n",
    "def image_samples(data, labels=None):\n",
    "    \n",
    "    font = FontProperties()\n",
    "    font.set_family('monospace')\n",
    "    \n",
    "    plt.figure(figsize=(8,4))\n",
    "    rows, cols = 2, 4 # these are arbitrary\n",
    "    random_ids = random.sample(range(len(data)), rows*cols) # randomly select the images\n",
    "    \n",
    "    for i in range(rows*cols):\n",
    "\n",
    "        curr_index = random_ids[i]\n",
    "        image = data[curr_index]\n",
    "        title_str = ('shape: ' + str(image.shape))\n",
    "        \n",
    "        if labels:\n",
    "            title_str += ('\\nclass ' + str(labels[i]))\n",
    "        \n",
    "        plt.subplot(rows, cols, i+1)\n",
    "        plt.title(title_str, fontproperties=font)\n",
    "        plt.imshow(image)\n",
    "        plt.axis('off')\n",
    "        \n",
    "    plt.tight_layout()\n",
    "    plt.show()"
   ]
  },
  {
   "cell_type": "markdown",
   "metadata": {},
   "source": [
    "# Fetch Data"
   ]
  },
  {
   "cell_type": "code",
   "execution_count": null,
   "metadata": {},
   "outputs": [],
   "source": [
    "def get_train_images(data_path):\n",
    "    \n",
    "    raw_images = []\n",
    "    labels = []\n",
    "\n",
    "    for k in range(NUM_CLASSES):\n",
    "        curr_dir_path = data_path + 'c' + str(k) + '/'\n",
    "\n",
    "        for file in os.listdir(curr_dir_path):\n",
    "            file_name = os.fsdecode(file)\n",
    "\n",
    "            if file_name.endswith(\".jpg\"):\n",
    "                file_path = (os.path.join(curr_dir_path, file_name))\n",
    "                img = np.asarray(Image.open(file_path))#.flatten()\n",
    "                raw_images.append(img)\n",
    "                labels.append(k)\n",
    "                \n",
    "    return np.asarray(raw_images), np.asarray(labels)"
   ]
  },
  {
   "cell_type": "code",
   "execution_count": null,
   "metadata": {},
   "outputs": [],
   "source": [
    "def clean_data(data):\n",
    "    \n",
    "    # apply greyscale\n",
    "    greyscale_imgs = data.mean(3) # dimension 3 of image shape corresponds to color channels\n",
    "    \n",
    "    # center-crop images\n",
    "    cropped_imgs = greyscale_imgs[:, 50:480, 100:640]\n",
    "    \n",
    "    # print a sample of images\n",
    "    image_samples(cropped_imgs)\n",
    "\n",
    "    return cropped_imgs"
   ]
  },
  {
   "cell_type": "code",
   "execution_count": null,
   "metadata": {},
   "outputs": [],
   "source": [
    "csv_path = '../dataset/driver_imgs_list.csv'\n",
    "train_data_path = '../dataset/samples/'\n",
    "# test_data_path = '../dataset/test/'\n",
    "\n",
    "drivers_csv = pd.read_csv(csv_path)\n",
    "classes = (np.unique(np.asarray(drivers_csv)[:,1]))\n",
    "NUM_CLASSES = len(classes) # 10\n",
    "\n",
    "# fetch images from stored dataset in path\n",
    "raw_images, labels = get_train_images(train_data_path)\n",
    "\n",
    "# apply gresycale\n",
    "raw_images = clean_data(raw_images)\n",
    "# print(raw_images.shape)"
   ]
  },
  {
   "cell_type": "code",
   "execution_count": null,
   "metadata": {
    "collapsed": true
   },
   "outputs": [],
   "source": [
    "# From array to a picture\n",
    "# img = Image.fromarray(arr)\n",
    "# img.save(\"output.png\")"
   ]
  }
 ],
 "metadata": {
  "kernelspec": {
   "display_name": "Python 3",
   "language": "python",
   "name": "python3"
  },
  "language_info": {
   "codemirror_mode": {
    "name": "ipython",
    "version": 3
   },
   "file_extension": ".py",
   "mimetype": "text/x-python",
   "name": "python",
   "nbconvert_exporter": "python",
   "pygments_lexer": "ipython3",
   "version": "3.6.1"
  }
 },
 "nbformat": 4,
 "nbformat_minor": 2
}
