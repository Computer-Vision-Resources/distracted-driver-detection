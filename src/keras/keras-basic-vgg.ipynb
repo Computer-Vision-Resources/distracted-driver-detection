{
 "cells": [
  {
   "cell_type": "markdown",
   "metadata": {},
   "source": [
    "Using VGG without transfer learning or Fine-Tuning"
   ]
  },
  {
   "cell_type": "code",
   "execution_count": 1,
   "metadata": {},
   "outputs": [
    {
     "name": "stderr",
     "output_type": "stream",
     "text": [
      "Using TensorFlow backend.\n"
     ]
    }
   ],
   "source": [
    "# import the necessary packages\n",
    "from keras.applications import VGG16\n",
    "from keras.applications import imagenet_utils\n",
    "from keras.applications.inception_v3 import preprocess_input\n",
    "from keras.preprocessing.image import img_to_array\n",
    "from keras.preprocessing.image import load_img\n",
    "import numpy as np\n",
    "import matplotlib.pyplot as plt"
   ]
  },
  {
   "cell_type": "code",
   "execution_count": 2,
   "metadata": {
    "collapsed": true
   },
   "outputs": [],
   "source": [
    "img_path = \"../../dataset/split_data/test/c0/img_63904.jpg\"\n",
    "\n",
    "# initialize the input image shape (224x224 pixels) along with\n",
    "# the pre-processing function\n",
    "input_shape = (224, 224)\n",
    "preprocess_func = imagenet_utils.preprocess_input\n",
    "\n",
    "# load network weights\n",
    "model = VGG16(weights='imagenet')"
   ]
  },
  {
   "cell_type": "code",
   "execution_count": 3,
   "metadata": {},
   "outputs": [],
   "source": [
    "# prepare image for classification using keras utility functions\n",
    "image = load_img(img_path, target_size=input_shape)\n",
    "image = img_to_array(image) # convert from PIL Image to NumPy array\n",
    "# the dimensions of image should now be (224, 224, 3)"
   ]
  },
  {
   "cell_type": "code",
   "execution_count": 4,
   "metadata": {},
   "outputs": [
    {
     "data": {
      "text/plain": [
       "(1, 224, 224, 3)"
      ]
     },
     "execution_count": 4,
     "metadata": {},
     "output_type": "execute_result"
    }
   ],
   "source": [
    "# to be able to pass it through the network and use batches, we want it with shape (1, 224, 224, 3)\n",
    "image = np.expand_dims(image, axis=0)\n",
    "\n",
    "# perform mean subtraction\n",
    "image = preprocess_func(image)\n",
    "\n",
    "image.shape"
   ]
  },
  {
   "cell_type": "code",
   "execution_count": 7,
   "metadata": {},
   "outputs": [
    {
     "name": "stdout",
     "output_type": "stream",
     "text": [
      "1. seat_belt: 94.18411%\n",
      "2. scuba_diver: 2.30084%\n",
      "3. convertible: 0.89993%\n",
      "4. oxygen_mask: 0.68769%\n",
      "5. minivan: 0.33779%\n"
     ]
    }
   ],
   "source": [
    "# classify given an image\n",
    "predictions = model.predict(image)\n",
    "# print(predictions)\n",
    "\n",
    "# get human-readable labels of the preditions, as well as the corresponding probability\n",
    "predictions_decoded = imagenet_utils.decode_predictions(predictions)\n",
    "\n",
    "# loop over the predictions and display the top 5\n",
    "for (i, (imgID, label, prob)) in enumerate(predictions_decoded[0]):\n",
    "    print(\"{}. {}: {:.5f}%\".format(i+1, label, prob * 100))"
   ]
  },
  {
   "cell_type": "code",
   "execution_count": null,
   "metadata": {
    "collapsed": true
   },
   "outputs": [],
   "source": []
  }
 ],
 "metadata": {
  "kernelspec": {
   "display_name": "Python 3",
   "language": "python",
   "name": "python3"
  },
  "language_info": {
   "codemirror_mode": {
    "name": "ipython",
    "version": 3
   },
   "file_extension": ".py",
   "mimetype": "text/x-python",
   "name": "python",
   "nbconvert_exporter": "python",
   "pygments_lexer": "ipython3",
   "version": "3.6.1"
  }
 },
 "nbformat": 4,
 "nbformat_minor": 2
}
