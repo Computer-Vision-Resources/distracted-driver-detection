{
 "cells": [
  {
   "cell_type": "code",
   "execution_count": 8,
   "metadata": {},
   "outputs": [],
   "source": [
    "#https://blog.keras.io/building-powerful-image-classification-models-using-very-little-data.html\n",
    "import numpy as np\n",
    "from keras.preprocessing.image import ImageDataGenerator, load_img, img_to_array\n",
    "from keras.models import Sequential\n",
    "from keras.layers import Dropout,Flatten, Dense\n",
    "from keras import applications\n",
    "from keras.utils.np_utils import to_categorical"
   ]
  },
  {
   "cell_type": "code",
   "execution_count": 9,
   "metadata": {
    "collapsed": true
   },
   "outputs": [],
   "source": [
    "img_width, img_height = 150, 150  \n",
    "\n",
    "train_data_dir = '../dataset/split_data/train/'\n",
    "validation_data_dir = '../dataset/split_data/validation/'\n",
    "top_model_weights_path = 'bottleneck_fc_model.h5'\n",
    "nb_train_samples = 13447\n",
    "nb_validation_samples = 4487\n",
    "nb_classes = 10\n",
    "epochs = 3\n",
    "batch_size = 16"
   ]
  },
  {
   "cell_type": "code",
   "execution_count": 10,
   "metadata": {
    "collapsed": true
   },
   "outputs": [],
   "source": [
    "def save_bottleneck_features():\n",
    "\n",
    "    model = applications.VGG16(include_top=False, weights='imagenet')  \n",
    "    datagen = ImageDataGenerator(rescale=1. / 255)  \n",
    "\n",
    "    generator = datagen.flow_from_directory(train_data_dir, target_size=(img_width, img_height), \\\n",
    "                                            batch_size=batch_size, class_mode=None, shuffle=False)  \n",
    "\n",
    "    n_train_samples = len(generator.filenames)  \n",
    "    n_classes = len(generator.class_indices)\n",
    "    print(\"Number of train files = {}\".format(n_train_samples))\n",
    "    print(\"Number of classes = {}\".format(n_classes))\n",
    "\n",
    "    predict_size_train = int(math.ceil(n_train_samples / batch_size))  \n",
    "\n",
    "    bottleneck_features_train = model.predict_generator(generator, predict_size_train, verbose=1)  \n",
    "\n",
    "    np.save('bottleneck_features_train.npy', bottleneck_features_train) \n",
    "\n",
    "    generator = datagen.flow_from_directory(validation_data_dir, target_size=(img_width, img_height), \\\n",
    "     batch_size=batch_size, class_mode=None, shuffle=False)  \n",
    "\n",
    "    n_validation_samples = len(generator.filenames)  \n",
    "\n",
    "    predict_size_validation = int(math.ceil(n_validation_samples / batch_size))  \n",
    "\n",
    "    bottleneck_features_validation = model.predict_generator(generator, predict_size_validation, verbose=1)  \n",
    "\n",
    "    np.save('bottleneck_features_validation.npy', bottleneck_features_validation)  \n",
    "\n"
   ]
  },
  {
   "cell_type": "code",
   "execution_count": 11,
   "metadata": {
    "collapsed": true
   },
   "outputs": [],
   "source": [
    "def create_top_model(final_activation,input_shape):\n",
    "    model = Sequential()  \n",
    "    model.add(Flatten(input_shape=input_shape))  \n",
    "    model.add(Dense(256, activation='relu'))  \n",
    "    model.add(Dropout(0.5))  \n",
    "    model.add(Dense(nb_classes, activation=final_activation)) # sigmoid to train, softmax for prediction\n",
    "    return model"
   ]
  },
  {
   "cell_type": "code",
   "execution_count": 12,
   "metadata": {
    "collapsed": true
   },
   "outputs": [],
   "source": [
    "def train_top_model():\n",
    "    datagen_top = ImageDataGenerator(rescale=1./255)  \n",
    "    generator_top = datagen_top.flow_from_directory(train_data_dir, target_size=(img_width, img_height),\\\n",
    "                                                    batch_size=batch_size, class_mode='categorical', \\\n",
    "                                                    shuffle=False)  \n",
    "\n",
    "    n_train_samples = len(generator_top.filenames)  \n",
    "    n_classes = len(generator_top.class_indices)  \n",
    "\n",
    "    # load the bottleneck features saved earlier  \n",
    "    train_data = np.load('bottleneck_features_train.npy')  \n",
    "\n",
    "    # get the class lebels for the training data, in the original order  \n",
    "    train_labels = generator_top.classes  \n",
    "\n",
    "    # convert the training labels to categorical vectors  \n",
    "    train_labels = to_categorical(train_labels, num_classes=n_classes)\n",
    "\n",
    "    generator_top = datagen_top.flow_from_directory(validation_data_dir, target_size=(img_width, img_height),\\\n",
    "                                                    batch_size=batch_size, class_mode=None, shuffle=False)  \n",
    "\n",
    "    n_validation_samples = len(generator_top.filenames)  \n",
    "\n",
    "    validation_data = np.load('bottleneck_features_validation.npy')\n",
    "\n",
    "    validation_labels = generator_top.classes  \n",
    "    validation_labels = to_categorical(validation_labels, num_classes=n_classes)\n",
    "\n",
    "    model = create_top_model(\"sigmoid\",train_data.shape[1:])\n",
    "\n",
    "    model.compile(optimizer='rmsprop',  \n",
    "              loss='categorical_crossentropy', metrics=['accuracy'])  \n",
    "\n",
    "    history = model.fit(train_data, train_labels, epochs=epochs, batch_size=batch_size,\\\n",
    "                        validation_data=(validation_data, validation_labels))  \n",
    "\n",
    "    model.save_weights(top_model_weights_path)  \n",
    "\n",
    "    (eval_loss, eval_accuracy) = model.evaluate(validation_data, validation_labels, \\\n",
    "                                                batch_size=batch_size, verbose=1)\n",
    "\n",
    "    print(\"[INFO] accuracy: {:.2f}%\".format(eval_accuracy * 100))  \n",
    "    print(\"[INFO] Loss: {}\".format(eval_loss))\n",
    "    return model\n"
   ]
  },
  {
   "cell_type": "code",
   "execution_count": 13,
   "metadata": {
    "collapsed": true
   },
   "outputs": [],
   "source": [
    "def get_prediction_from_image(img_path):\n",
    "    img_path = \"../dataset/split_data/test/c5/img_18411.jpg\"\n",
    "    target_size=(150,150)\n",
    "\n",
    "    # prepare image for classification using keras utility functions\n",
    "    image = load_img(img_path, target_size=target_size)\n",
    "    image = img_to_array(image) # convert from PIL Image to NumPy array\n",
    "    image /= 255\n",
    "    # the dimensions of image should now be (150, 150, 3)\n",
    "\n",
    "    # to be able to pass it through the network and use batches, we want it with shape (1, 224, 224, 3)\n",
    "    image = np.expand_dims(image, axis=0)\n",
    "    print(image.shape)\n",
    "\n",
    "    # build the VGG16 network  \n",
    "    model = applications.VGG16(include_top=False, weights='imagenet')  \n",
    "\n",
    "    # get the bottleneck prediction from the pre-trained VGG16 model  \n",
    "    bottleneck_prediction = model.predict(image) \n",
    "    \n",
    "    # build top model  \n",
    "    model = create_top_model(\"softmax\",bottleneck_prediction.shape[1:])\n",
    "\n",
    "    model.load_weights(top_model_weights_path)  \n",
    "\n",
    "    # use the bottleneck prediction on the top model to get the final classification  \n",
    "    class_predicted = model.predict_classes(bottleneck_prediction) \n",
    "    probs = model.predict(bottleneck_prediction) \n",
    "\n",
    "    print(class_predicted)\n",
    "    print(probs)"
   ]
  },
  {
   "cell_type": "code",
   "execution_count": 14,
   "metadata": {},
   "outputs": [
    {
     "name": "stdout",
     "output_type": "stream",
     "text": [
      "Found 13447 images belonging to 10 classes.\n",
      "Found 4487 images belonging to 10 classes.\n",
      "Train on 13447 samples, validate on 4487 samples\n",
      "Epoch 1/3\n",
      "13447/13447 [==============================] - 12s 886us/step - loss: 1.5570 - acc: 0.4426 - val_loss: 0.5551 - val_acc: 0.7923\n",
      "Epoch 2/3\n",
      "13447/13447 [==============================] - 12s 873us/step - loss: 0.4260 - acc: 0.8647 - val_loss: 0.1029 - val_acc: 0.9724\n",
      "Epoch 3/3\n",
      "13447/13447 [==============================] - 12s 873us/step - loss: 0.2847 - acc: 0.9096 - val_loss: 0.1096 - val_acc: 0.9692\n",
      "4487/4487 [==============================] - 1s 136us/step\n",
      "[INFO] accuracy: 96.92%\n",
      "[INFO] Loss: 0.10964528190558193\n",
      "(1, 150, 150, 3)\n",
      "[5]\n",
      "[[  4.53916982e-05   4.89248997e-08   4.57145416e-06   3.07668117e-04\n",
      "    1.43566649e-04   9.34469879e-01   7.11626047e-09   3.79093956e-09\n",
      "    2.57027597e-04   6.47718757e-02]]\n"
     ]
    }
   ],
   "source": [
    "if __name__ == \"__main__\":\n",
    "    #save_bottleneck_features() # Takes a lot of time\n",
    "    model = train_top_model()\n",
    "    get_prediction_from_image(\"../dataset/split_data/test/c5/img_18411.jpg\")"
   ]
  },
  {
   "cell_type": "code",
   "execution_count": null,
   "metadata": {
    "collapsed": true
   },
   "outputs": [],
   "source": []
  }
 ],
 "metadata": {
  "kernelspec": {
   "display_name": "Python 3",
   "language": "python",
   "name": "python3"
  },
  "language_info": {
   "codemirror_mode": {
    "name": "ipython",
    "version": 3
   },
   "file_extension": ".py",
   "mimetype": "text/x-python",
   "name": "python",
   "nbconvert_exporter": "python",
   "pygments_lexer": "ipython3",
   "version": "3.6.1"
  }
 },
 "nbformat": 4,
 "nbformat_minor": 2
}
